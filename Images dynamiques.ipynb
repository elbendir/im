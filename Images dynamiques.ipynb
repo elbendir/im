##############################
# Images dynamiques
##############################
from tkinter import *
from tkinter import ttk
from tkinter import messagebox
from tkinter import StringVar


#cette fonction pour augmente la vitesse travail
#decleration fonction du travail
def form (geometry = "400x400" , title =" " ,  is_center = True , bg = "blue") :
    f = Tk()
    f.geometry(geometry)
    f.title(title)
    if is_center: tkcenter(f)
    return f
def tkcenter(form) :
    form.update()
    fw = form.winfo_width()
    fh = form.winfo_height()
    sw = form.winfo_screenwidth()
    sh = form.winfo_screenheight()
    x = (sw - fw) / 2
    y = (sh - fh) / 2
    form.geometry("%dx%d+%d+%d" % (fw , fh , x , y))
def button(form , text = "Button" , command = None):
    btn = ttk.Button(form , text = text)
    if command != None :
        btn.config(command = command)
    return btn
def label (form , text = "label"):
    return ttk.Label(form , text = text)
def entry(form , textvariable = None):
    en = Entry(form)
    if textvariable != None:
        en.config(textvariable = textvariable)
    return en
def msgbox(txt) :
    messagebox.showinfo("" , txt)
def strvar(i , j , n):
    return StringVar()
#####################################################
[[1,2,3,4] , [5,6,7,8] , [9,10,11,12] , [13,14,15,16]]
#####################################################
f = form()
tkcenter(f)
tab = [[1,2,3,4] , [5,6,7,8] , [9,10,11,12] , [13,14,15,16]]
label(f , "Entrer Tableaux").grid(row = 0 , column = 0 , padx = 10 , pady=10)
label(f , "Entrer (i , j , n)").grid(row = 1 , column = 0 , padx = 10 , pady=10)
label(f , "Entrer Tableaux").grid(row = 2, column = 0 , padx = 10 , pady=10)
entry(f , tab).grid(row = 0 , column = 1 , padx = 10 , pady=10)
t = strvar(1 , 1 ,8)
entry(f , t ).grid(row = 1 , column = 1 , padx = 10 , pady=10)
entry(f , tab).grid(row = 2 , column = 1 , padx = 10 , pady=10)

def afficher_tableau(tableau):
    n = len(tableau)
    m = len(tableau[0])
    for i in range(n):
        for j in range(m):
            print('{:>4d}'.format(tableau[i][j])," ", end="")
        print()
    return

def transformation(i,j,n):
    if i%2 == 0 and j%2 == 0:
        ii = i//2
        jj = j//2
    if i%2 == 0 and j%2 == 1:
        ii = i//2
        jj = (n+j)//2
    if i%2 == 1 and j%2 == 0:
        ii = (n+i)//2
        jj = j//2
    if i%2 == 1 and j%2 == 1:
        ii = (n+i)//2
        jj = (n+j)//2
    return ii,jj
           
def photomaton(tableau):
    n = len(tableau)
    nouv_tableau = [[0 for j in range(n)] for i in range(n)]
    for i in range(n):
        for j in range(n):
            ii, jj = transformation(i,j,n)
            nouv_tableau[ii][jj] = tableau[i][j]
    return nouv_tableau
           
button(f , "afficher_tableau" , lambda : afficher_tableau(tab)).grid(row = 0, column = 3 , columnspan = 2 ,  padx = 10 , pady=10)
button(f , "transformation" , lambda : transformation(i ,j ,n)).grid(row = 1, column = 3 , columnspan = 2 ,  padx = 10 , pady=10)
button(f , "photomaton" , lambda : afficher_tableau(photomaton(tab))).grid(row = 2, column = 3 , columnspan = 2 ,  padx = 10 , pady=10)

f.mainloop()

"""
           
##############################
## Question 3 ##
def photomaton_iterer(tableau,k):
    n = len(tableau)
    tab = [[tableau[i][j] for j in range(n)] for i in range(n)]
    for i in range(k):
        tab = photomaton(tab)
    return tab


## Test programme
print("--- Itération de la transformation du photomaton ---")
tableau = np.array( [ [randint(1,4),randint(1,4),randint(1,4),randint(1,4)], [randint(5,8),randint(5,8),randint(5,8),randint(5,8)],[randint(9,12),randint(9,12),randint(9,12),randint(9,12)], [randint(13,16),randint(13,16),randint(13,16),randint(13,16)] ] )   
tableau_transforme = photomaton_iterer(tableau ,randint(1,8))
afficher_tableau(tableau)
print("---")
afficher_tableau(tableau_transforme)

################################3

##############################
# Activité 2 - Conversion tableau/image
##############################
##############################
## Question 1 ##
def tableau_vers_image(tableau,nom_image):
    im = Image.fromarray(tableau)
    # Création d'un fichier en écriture
    nom_fichier = "output/" + nom_image + ".pgm"
    fic = open("C:\\Users\\PC\\Documents\\M1\\S1\\nom_fichier","w")
    # Entete
    fic.write("P2\n") # Image en niveaux de gris
    nb_lig = len(tableau)
    nb_col = len(tableau[0])
    fic.write(str(nb_col) + " " + str(nb_lig) + "\n")
    niveaux = 255
    fic.write(str(niveaux) + "\n")
    for i in range(nb_lig):
        ligne = ""
        for j in range(nb_col):
            coul = tableau[i][j]
            ligne = ligne + str(coul) + " "
        ligne = ligne + "\n"
        # Ecriture dans le fichier
        fic.write(ligne)
    # Fermeture du fichier
    fic.close()
    
    
    return  im.show()


## Test programme
print("--- Tableau vers image ---")
tableau = np.array([[128, 192, 128, 192, 128], [224, 0, 228, 0, 224], [228, 228, 228, 228, 228],[224, 64, 64, 64, 224], [192, 192, 192, 192, 192]])
tableau_vers_image(tableau,"test")  

## Question 2 ##
def image_vers_tableau(nom_image):
    # Création d'un fichier en écriture
    nom_fichier = "input/" + nom_image + ".pgm"
    fic = open("C:\\Users\\PC\\Documents\\M1\\S1\\nom_fichier","r")
    i = 0  # Numéro de ligne
    for ligne in fic:
        if i == 1:  # Garder les 2 premières lignes
            liste_ligne = ligne.split()
            nb_col = int(liste_ligne[0])
            nb_lig = int(liste_ligne[1])
            tableau = [[ 0 for j in range(nb_col)] for i in range(nb_lig)]
        elif i > 2:
            liste = ligne.split()
            for j in range(nb_col):
                tableau[i-3][j] = int(liste[j])
        i = i + 1
    # Fermeture du fichier
    fic.close()
    return tableau

##Test programme
print("--- Image vers tableau ---")
test_tableau = image_vers_tableau("test")
print(test_tableau)
"""
