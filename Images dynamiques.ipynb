
# Images dynamiques
##############################
from tkinter import *
from random import *
from tkinter import ttk
from tkinter import messagebox
from  tkinter import IntVar
from tkinter import StringVar

#cette fonction pour augmente la vitesse travail
#decleration fonction du travail
def form (geometry = "500x500" , title =" " ,  is_center = True , bg = "blue") :
    f = Tk()
    f.geometry(geometry)
    f.title(title)
    if is_center: tkcenter(f)
    return f
def tkcenter(form) :
    form.update()
    fw = form.winfo_width()
    fh = form.winfo_height()
    sw = form.winfo_screenwidth()
    sh = form.winfo_screenheight()
    x = (sw - fw) / 2
    y = (sh - fh) / 2
    form.geometry("%dx%d+%d+%d" % (fw , fh , x , y))
def button(form , text = "Button" , command = None):
    btn = ttk.Button(form , text = text)
    if command != None :
        btn.config(command = command)
    return btn
def label (form , text = "label"):
    return ttk.Label(form , text = text)
def entry(form , textvariable = None):
    en = Entry(form)
    if textvariable != None:
        en.config(textvariable = textvariable)
    return en
def msgbox(txt) :
    messagebox.showinfo("" , txt)
def intvar():
    return IntVar()
def strvar():
    return StringVar
#####################################################
[[1,2,3,4] , [5,6,7,8] , [9,10,11,12] , [13,14,15,16]]
#####################################################
f = form()
bg = "lightblue"
f.configure(bg = bg)
tkcenter(f)
tab = [[1,2,3,4] , [5,6,7,8] , [9,10,11,12] , [13,14,15,16]]
label(f , "Entrer Tableaux").grid(row = 0 , column = 0 , padx = 10 , pady=10)
label(f , "Entrer transformation(i , j , n)").grid(row = 1 , column = 0 , padx = 10 , pady=10)
label(f , "Entrer Tableaux").grid(row = 2, column = 0 , padx = 10 , pady=10)
label(f , "Entrer photomaton_iterer").grid(row = 3, column = 0 , padx = 10 , pady=10)
label(f , "Entrer tableau_vers_image").grid(row = 4, column = 0 , padx = 10 , pady=10)
label(f , "Entrer image_vers_tableau").grid(row = 5, column = 0 , padx = 10 , pady=10)

entry(f , tab).grid(row = 0 , column = 1 , padx = 10 , pady=10)
i = intvar()
j = intvar()
n = intvar()
t1 = entry(f , (i , j , n)).grid(row = 1 , column = 1 , padx = 10 , pady=10)
t2 = entry(f , tab).grid(row = 2 , column = 1 , padx = 10 , pady=10)
p1 = (tab , k)
t3 = entry(f , p1).grid(row = 3 , column = 1 , padx = 10 , pady=10)
im = strvar()
tab = strvar()
t4 = entry(f , (tab , im)).grid(row = 4 , column = 1 , padx = 10 , pady=10)
t5 = entry(f , im).grid(row = 5 , column = 1 , padx = 10 , pady=10)

## pour suprimer le crauche et le virguile de tableaux##
def afficher_tableau(tableau):
    n = len(tableau)
    m = len(tableau[0])
    for i in range(n):
        for j in range(m):
            print('{:>4d}'.format(tableau[i][j])," ", end="")
        print()
    return
##############################
# Activité 1 - Transformation du Photomoton
##############################
##############################
## Question 1 ##
def transformation(i,j,n):
    if i%2 == 0 and j%2 == 0:
        ii = i//2
        jj = j//2
    if i%2 == 0 and j%2 == 1:
        ii = i//2
        jj = (n+j)//2
    if i%2 == 1 and j%2 == 0:
        ii = (n+i)//2
        jj = j//2
    if i%2 == 1 and j%2 == 1:
        ii = (n+i)//2
        jj = (n+j)//2
    return ii,jj
## Question 2 ##           
def photomaton(tableau):
    n = len(tableau)
    nouv_tableau = [[0 for j in range(n)] for i in range(n)]
    for i in range(n):
        for j in range(n):
            ii, jj = transformation(i,j,n)
            nouv_tableau[ii][jj] = tableau[i][j]
    return nouv_tableau
## Question 3 ##
def photomaton_iterer(tableau,k):
    n = len(tableau)
    tab = [[tableau[i][j] for j in range(n)] for i in range(n)]
    for i in range(k):
        tab = photomaton(tab)
    return tab

##############################
# Activité 2 - Conversion tableau/image
##############################
##############################
## Question 1 ##
def tableau_vers_image(tableau,nom_image):
    im = Image.fromarray(tableau)
    # Création d'un fichier en écriture
    nom_fichier = "output/" + nom_image + ".pgm"
    fic = open("C:\\Users\\PC\\Documents\\M1\\S1\\nom_fichier","w")
    # Entete
    fic.write("P2\n") # Image en niveaux de gris
    nb_lig = len(tableau)
    nb_col = len(tableau[0])
    fic.write(str(nb_col) + " " + str(nb_lig) + "\n")
    niveaux = 255
    fic.write(str(niveaux) + "\n")
    for i in range(nb_lig):
        ligne = ""
        for j in range(nb_col):
            coul = tableau[i][j]
            ligne = ligne + str(coul) + " "
        ligne = ligne + "\n"
        # Ecriture dans le fichier
        fic.write(ligne)
    # Fermeture du fichier
    fic.close()
    return  im.show()

## Question 2 ##
def image_vers_tableau(nom_image):
    # Création d'un fichier en écriture
    nom_fichier = "input/" + nom_image + ".pgm"
    fic = open("C:\\Users\\PC\\Documents\\M1\\S1\\nom_fichier","r")
    i = 0  # Numéro de ligne
    for ligne in fic:
        if i == 1:  # Garder les 2 premières lignes
            liste_ligne = ligne.split()
            nb_col = int(liste_ligne[0])
            nb_lig = int(liste_ligne[1])
            tableau = [[ 0 for j in range(nb_col)] for i in range(nb_lig)]
        elif i > 2:
            liste = ligne.split()
            for j in range(nb_col):
                tableau[i-3][j] = int(liste[j])
        i = i + 1
    # Fermeture du fichier
    fic.close()
    return tableau



button(f , "afficher_tableau" , lambda : afficher_tableau(tab)).grid(row = 0, column = 3 , columnspan = 2 ,  padx = 10 , pady=10)
button(f , "transformation" , lambda : transformation(i,j,n)).grid(row = 1, column = 3 , columnspan = 2 ,  padx = 10 , pady=10)
button(f , "photomaton" , lambda : afficher_tableau(photomaton(tab))).grid(row = 2, column = 3 , columnspan = 2 ,  padx = 10 , pady=10)
button(f , "photomaton_iterer" , lambda : afficher_tableau(photomaton_iterer(tab ,k))).grid(row = 3, column = 3 , columnspan = 2 ,  padx = 10 , pady=10)
button(f , "tableau_vers_image" , lambda : tableau_vers_image(tab,im)).grid(row = 4, column = 3 , columnspan = 2 ,  padx = 10 , pady=10)
button(f , "image_vers_tableau" , lambda : image_vers_tableau(im)).grid(row = 5, column = 3 , columnspan = 2 ,  padx = 10 , pady=10)

f.mainloop()

