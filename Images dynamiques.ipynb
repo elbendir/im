"""{
 "cells": [
  {
   "cell_type": "code",
   "execution_count": 114,
   "id": "e40b571b",
   "metadata": {},
   "outputs": [
    {
     "name": "stdout",
     "output_type": "stream",
     "text": [
      "[1, 2, 3, 4]\n",
      "[5, 6, 7, 8]\n",
      "[9, 10, 11, 12]\n",
      "[13, 14, 15, 16]\n",
      "\n",
      "\n",
      "[[ 1  3  2  4]\n",
      " [ 9 11 10 12]\n",
      " [ 5  7  6  8]\n",
      " [13 15 14 16]]\n",
      "\n",
      "\n",
      "[[ 1  2  3  4]\n",
      " [ 5  6  7  8]\n",
      " [ 9 10 11 12]\n",
      " [13 14 15 16]]\n",
      "\n",
      "\n"
     ]
    }
   ],
   "source": [
    "from PIL import Image\n",
    "import numpy  as np\n",
    "from  tkinter import*\n",
    "#img=Image.open('C:/Users/MOHAMED LEMIN/Pi.jpg')\n",
    "\n",
    "\n",
    "#Une fonction qui permet renvoie les corrdonnee de (i',j') de l image du pixel (i,j)\n",
    "def transformation(i,j,n):\n",
    "     for x in range(i):\n",
    "        for y in range(j):\n",
    "            \n",
    "            \n",
    "            if i%2==0 and j%2==0:\n",
    "\n",
    "                (l,c)=(i//2,j//2)\n",
    "\n",
    "            if i%2==0 and j%2 ==1:\n",
    "\n",
    "                (l,c)=(i//2,(n+j)//2)\n",
    "\n",
    "            if i%2==1 and j%2==0:\n",
    "\n",
    "                (l,c)=((n+i)//2,j//2)\n",
    "\n",
    "            if i%2==1 and j%2==1:\n",
    "\n",
    "                (l,c)=((n+i)//2,(n+j)//2) \n",
    "            \n",
    "               \n",
    "     return l,c \n",
    "\n",
    "  #Tu peux initialiser un nouveau tableau par la commande :\n",
    "\n",
    "tableaux=[[1, 2, 3, 4],[5, 6, 7, 8],[9, 10, 11, 12],[13, 14, 15, 16]]\n",
    "def photo(a,n):\n",
    "    if a%2==0:\n",
    "        k=a//2\n",
    "    else:\n",
    "        k=(n+a)//2\n",
    "    return k\n",
    "def photomaton(tableaux):\n",
    "    n=len(tableaux)\n",
    "    nouveaux_tableaux=np.array([[0 for i in range(n)] for j in range(n)])\n",
    "    for i in range(n):\n",
    "        for j in range(n):\n",
    "\n",
    "            nouveaux_tableaux[i][j]=tableaux[photo(i,n)][photo(j,n)]\n",
    "\n",
    "    return nouveaux_tableaux\n",
    "\n",
    "for i in range(len(tableaux)):\n",
    "    print(tableaux[i])\n",
    "\n",
    "print(\"\\n\")\n",
    "print(photomaton(tableaux))\n",
    "\n",
    "#Q programme une fonction de photomaton_iterer\n",
    "\n",
    "def photomaton_iterer(tableaux,k):\n",
    "    for i in range(k):\n",
    "    \n",
    "         nouveauv_table1=photomaton(tableaux)\n",
    "         nouveauv_table2=nouveauv_table1\n",
    "         tableaux=nouveauv_table2\n",
    "        \n",
    "    return nouveauv_table2\n",
    "print(\"\\n\")\n",
    "print(photomaton_iterer(tableaux,2))\n",
    "print(\"\\n\")\n"
   ]
  },
  {
   "cell_type": "code",
   "execution_count": 8,
   "id": "da7774a9",
   "metadata": {},
   "outputs": [
    {
     "data": {
      "text/plain": [
       "array([[ 1,  3,  2,  4],\n",
       "       [ 9, 11, 10, 12],\n",
       "       [ 5,  7,  6,  8],\n",
       "       [13, 15, 14, 16]])"
      ]
     },
     "execution_count": 8,
     "metadata": {},
     "output_type": "execute_result"
    }
   ],
   "source": [
    "def photo(a,n):\n",
    "    if a%2==0:\n",
    "        k=a//2\n",
    "    else:\n",
    "        k=(n+a)//2\n",
    "    return k\n",
    "\n",
    "def mmat(tableaux):\n",
    "    n=len(tableaux)\n",
    "    n_v=np.array([[0 for i in range(n)] for j in range(n)])\n",
    "    for i in range(n):\n",
    "        for j in range(n):\n",
    "            n_v[i][j]=tableaux[photo(i,n)][photo(j,n)]\n",
    "    return n_v \n",
    "tableaux=[[1, 2, 3, 4],[5, 6, 7, 8],[9, 10, 11, 12],[13, 14, 15, 16]]\n",
    "mmat(tableaux)"
   ]
  },
  {
   "cell_type": "code",
   "execution_count": 20,
   "id": "127db403",
   "metadata": {},
   "outputs": [
    {
     "data": {
      "text/plain": [
       "array([[ 1,  2,  3,  4],\n",
       "       [ 5,  6,  7,  8],\n",
       "       [ 9, 10, 11, 12],\n",
       "       [13, 14, 15, 16]])"
      ]
     },
     "execution_count": 20,
     "metadata": {},
     "output_type": "execute_result"
    }
   ],
   "source": [
    "def kn(tableaux,k):\n",
    "   for i in range(k):\n",
    "    \n",
    "       r=mmat(tableaux)\n",
    "       rr=r \n",
    "       tableaux=rr\n",
    "        \n",
    "   return rr\n",
    "kn(tableaux,2)"
   ]
  },
  {
   "cell_type": "code",
   "execution_count": 9,
   "id": "319d80f9",
   "metadata": {},
   "outputs": [
    {
     "ename": "TypeError",
     "evalue": "save() missing 1 required positional argument: 'fp'",
     "output_type": "error",
     "traceback": [
      "\u001b[1;31m---------------------------------------------------------------------------\u001b[0m",
      "\u001b[1;31mTypeError\u001b[0m                                 Traceback (most recent call last)",
      "\u001b[1;32mC:\\Users\\MOHAME~1\\AppData\\Local\\Temp/ipykernel_5324/600508.py\u001b[0m in \u001b[0;36m<module>\u001b[1;34m\u001b[0m\n\u001b[0;32m     59\u001b[0m     \u001b[0mc\u001b[0m\u001b[1;33m=\u001b[0m\u001b[0ma\u001b[0m\u001b[1;33m+\u001b[0m\u001b[1;36m1\u001b[0m\u001b[1;33m\u001b[0m\u001b[1;33m\u001b[0m\u001b[0m\n\u001b[0;32m     60\u001b[0m \u001b[1;33m\u001b[0m\u001b[0m\n\u001b[1;32m---> 61\u001b[1;33m     \u001b[0mimgF\u001b[0m\u001b[1;33m.\u001b[0m\u001b[0msave\u001b[0m\u001b[1;33m(\u001b[0m\u001b[0mimg\u001b[0m\u001b[1;33m=\u001b[0m\u001b[0mImage\u001b[0m\u001b[1;33m.\u001b[0m\u001b[0mopen\u001b[0m\u001b[1;33m(\u001b[0m\u001b[1;34m'C:/Users/MOHAMED LEMIN/Pi.jpg'\u001b[0m\u001b[1;33m)\u001b[0m\u001b[1;33m)\u001b[0m\u001b[1;33m\u001b[0m\u001b[1;33m\u001b[0m\u001b[0m\n\u001b[0m\u001b[0;32m     62\u001b[0m \u001b[1;33m\u001b[0m\u001b[0m\n\u001b[0;32m     63\u001b[0m \u001b[1;31m# fermeture du fichier image\u001b[0m\u001b[1;33m\u001b[0m\u001b[1;33m\u001b[0m\u001b[0m\n",
      "\u001b[1;31mTypeError\u001b[0m: save() missing 1 required positional argument: 'fp'"
     ]
    }
   ],
   "source": [
    "# importation des librairies\n",
    "from PIL import Image\n",
    "for a in range(1,50):\n",
    "\n",
    "    img=Image.open('C:/Users/MOHAMED LEMIN/Pi.jpg')\n",
    "\n",
    "      \n",
    "\n",
    "   # rÈcupÈration de la largeur et hauteur de l’image\n",
    "\n",
    "    colonne,ligne = img.size\n",
    "\n",
    "    # crÈation d’une image de mÍme type\n",
    "\n",
    "    imgF = Image.new(img.mode,img.size)\n",
    "\n",
    " \n",
    "\n",
    "    #boucle de traitement des pixel\n",
    "\n",
    "    for j in range(ligne):\n",
    "\n",
    "        for i in range(colonne):\n",
    "\n",
    "            pixel = img.getpixel((i,j))\n",
    "\n",
    "            # on calcule le complement ‡ MAX pour chaque composante – effet nÈgatif\n",
    "\n",
    "            if i%2==0 and j%2==0:\n",
    "\n",
    "                (x,y)=(i//2,j//2)\n",
    "\n",
    "            if i%2==0 and j%2==1:\n",
    "\n",
    "                (x,y)=(i//2,(ligne+j)//2)\n",
    "\n",
    "            if i%2==1 and j%2==0:\n",
    "\n",
    "                (x,y)=((colonne+i)//2,j//2)\n",
    "\n",
    "            if i%2==1 and j%2==1:\n",
    "\n",
    "                (x,y)=((colonne+i)//2,(ligne+j)//2)\n",
    "\n",
    "            imgF.putpixel((x,y), pixel)\n",
    "\n",
    "            # composition de la nouvelle image\n",
    "\n",
    "         \n",
    "\n",
    "    # la fonction de PIL qui fait la mÍme chose\n",
    "\n",
    "    #imgF = ImageChops.invert(img)    \n",
    "\n",
    "    # affichage de l’image\n",
    "\n",
    "    imgF.show()\n",
    "\n",
    "    c=a+1\n",
    "\n",
    "    imgF.save(img=Image.open('C:/Users/MOHAMED LEMIN/Pi.jpg'))\n",
    "\n",
    "# fermeture du fichier image\n",
    "\n",
    "img.close()"
   ]
  }
 ],
 "metadata": {
  "kernelspec": {
   "display_name": "Python 3 (ipykernel)",
   "language": "python",
   "name": "python3"
  },
  "language_info": {
   "codemirror_mode": {
    "name": "ipython",
    "version": 3
   },
   "file_extension": ".py",
   "mimetype": "text/x-python",
   "name": "python",
   "nbconvert_exporter": "python",
   "pygments_lexer": "ipython3",
   "version": "3.9.7"
  }
 },
 "nbformat": 4,
 "nbformat_minor": 5
}
